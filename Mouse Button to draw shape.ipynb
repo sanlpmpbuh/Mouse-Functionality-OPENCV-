{
 "cells": [
  {
   "cell_type": "markdown",
   "metadata": {},
   "source": [
    "# DRAWING with MOUSE"
   ]
  },
  {
   "cell_type": "code",
   "execution_count": null,
   "metadata": {},
   "outputs": [],
   "source": [
    "# IMPORT THE LIBRARIES\n",
    "\n",
    "import cv2\n",
    "import numpy as np\n",
    "\n",
    "# WRITING OUR DRAWING FUNCTION\n",
    "\n",
    "image = np.zeros(shape = (512,512,3),\n",
    "                 dtype = np.int8)\n",
    "\n",
    "def draw_circle(event , x , y , flags , param):\n",
    "    \n",
    "    #LEFT BUTTON :\n",
    "    \n",
    "    if event == cv2.EVENT_LBUTTONDOWN:\n",
    "            cv2.circle(img = image,\n",
    "                       center = (x,y),\n",
    "                       radius = 70,\n",
    "                       color = (255,15,89),\n",
    "                       thickness = -1)\n",
    "\n",
    "   #RIGHT BUTTON :\n",
    "\n",
    "    elif event == cv2.EVENT_RBUTTONDOWN:\n",
    "            cv2.circle(img = image,\n",
    "                       center = (x,y),\n",
    "                       radius = 50,\n",
    "                       color = (251,85,19),\n",
    "                       thickness = -1)\n",
    "            \n",
    "# CREATING THE WINDOW\n",
    "\n",
    "cv2.namedWindow(winname = 'ALAM\\'s Drawing')\n",
    "     \n",
    "# MOUSE FUNCTION\n",
    "\n",
    "cv2.setMouseCallback('ALAM\\'s Drawing' , draw_circle)\n",
    "\n",
    "# SHOWING IMAGE USING OPENCV\n",
    "\n",
    "while 1:\n",
    "    cv2.imshow('ALAM\\'s Drawing' , image)\n",
    "    \n",
    "    if cv2.waitKey(5) &0xFF==ord('q'):\n",
    "        break\n",
    "\n",
    "cv2.destroyAllWindows()\n",
    "    \n",
    "    \n",
    "    \n",
    "    \n",
    "    \n",
    "    #cv2.waitKey() returns a 32 Bit integer value (might be dependent on the platform). \n",
    "    #The key input is in ASCII which is an 8 Bit integer value.\n",
    "    #So you only care about these 8 bits and want all other bits to be 0. This you can achieve with"
   ]
  },
  {
   "cell_type": "markdown",
   "metadata": {},
   "source": [
    "- **event**: The event that took place (left mouse button pressed, left mouse button released, mouse movement, etc).\n",
    "\n",
    "- **x**: The x-coordinate of the event.\n",
    "\n",
    "- **y**: The y-coordinate of the event.\n",
    "\n",
    "- **flags**: Any relevant flags passed by OpenCV.\n",
    "\n",
    "- **params**: Any extra parameters supplied by OpenCV."
   ]
  },
  {
   "cell_type": "markdown",
   "metadata": {},
   "source": [
    "- waitKey() , Button is pressed it returns a 32-bit integer\n",
    "\n"
   ]
  },
  {
   "cell_type": "markdown",
   "metadata": {},
   "source": [
    "- 0xFF == ord('q') statement. If True then it simply breakes the infinite while loop. We can set it to any key of your choice."
   ]
  },
  {
   "cell_type": "markdown",
   "metadata": {},
   "source": [
    "- ord(char) returns the ASCII value of the character which would be again maximum 255\n",
    "\n",
    "- Hence by comparing the integer to the ord(char) value, we can check for a key pressed event and break the loop."
   ]
  },
  {
   "cell_type": "code",
   "execution_count": null,
   "metadata": {},
   "outputs": [],
   "source": []
  }
 ],
 "metadata": {
  "kernelspec": {
   "display_name": "Python 3",
   "language": "python",
   "name": "python3"
  },
  "language_info": {
   "codemirror_mode": {
    "name": "ipython",
    "version": 3
   },
   "file_extension": ".py",
   "mimetype": "text/x-python",
   "name": "python",
   "nbconvert_exporter": "python",
   "pygments_lexer": "ipython3",
   "version": "3.7.6"
  }
 },
 "nbformat": 4,
 "nbformat_minor": 4
}
